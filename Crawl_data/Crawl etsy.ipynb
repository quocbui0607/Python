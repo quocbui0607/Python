{
 "cells": [
  {
   "cell_type": "code",
   "execution_count": 1,
   "metadata": {},
   "outputs": [],
   "source": [
    "import time\n",
    "from selenium import webdriver\n",
    "from selenium.webdriver.common.by import By\n",
    "from selenium.webdriver.support.ui import WebDriverWait\n",
    "from selenium.webdriver.support import expected_conditions as EC\n",
    "from selenium.common.exceptions import TimeoutException, NoSuchElementException\n",
    "from selenium.webdriver.common.action_chains import ActionChains\n",
    "from selenium.webdriver.common.keys import Keys\n",
    "import pandas as pd\n",
    "import os.path\n",
    "import requests\n",
    "import re"
   ]
  },
  {
   "cell_type": "code",
   "execution_count": 2,
   "metadata": {},
   "outputs": [],
   "source": [
    "def scroll_down(driver):\n",
    "    SCROLL_PAUSE_TIME = 1\n",
    "    while True:\n",
    "        last_height = driver.execute_script(\"return document.body.scrollHeight\")\n",
    "        # Scroll down to bottom\n",
    "        driver.execute_script(\"window.scrollTo(0, document.body.scrollHeight);\")\n",
    "        # Wait to load page\n",
    "        time.sleep(SCROLL_PAUSE_TIME)\n",
    "        # Calculate new scroll height and compare with last scroll height\n",
    "        new_height = driver.execute_script(\"return document.body.scrollHeight\")\n",
    "        if new_height == last_height:\n",
    "            # try again (can be removed)\n",
    "            driver.execute_script(\"window.scrollTo(0, document.body.scrollHeight);\")\n",
    "            # Wait to load page\n",
    "            time.sleep(SCROLL_PAUSE_TIME)\n",
    "            # Calculate new scroll height and compare with last scroll height\n",
    "            new_height = driver.execute_script(\"return document.body.scrollHeight\")\n",
    "            # check if the page height has remained the same\n",
    "            if new_height == last_height:\n",
    "                # if so, you are done\n",
    "                break\n",
    "            # if not, move on to the next loop\n",
    "            else:\n",
    "                last_height = new_height\n",
    "                continue\n",
    "    return driver"
   ]
  },
  {
   "cell_type": "code",
   "execution_count": 3,
   "metadata": {},
   "outputs": [],
   "source": [
    "def scroll_down_and_wait(driver):\n",
    "    actions = ActionChains(driver)\n",
    "    for _ in range(4):\n",
    "        actions.send_keys(Keys.SPACE).perform()\n",
    "        time.sleep(1)\n",
    "    return driver\n",
    "\n",
    "def scroll_up_and_wait(driver):\n",
    "    actions = ActionChains(driver)\n",
    "    for _ in range(4):\n",
    "        actions.send_keys(Keys.PAGE_UP).perform()\n",
    "        time.sleep(1)\n",
    "    return driver"
   ]
  },
  {
   "cell_type": "code",
   "execution_count": 4,
   "metadata": {},
   "outputs": [],
   "source": [
    "driver = webdriver.Chrome(executable_path='D:/IT/Python/Crawl_data/chromedriver.exe')\n",
    "driver.get('https://www.etsy.com/')"
   ]
  },
  {
   "cell_type": "code",
   "execution_count": 5,
   "metadata": {},
   "outputs": [],
   "source": [
    "search_input = driver.find_element_by_xpath('//input[contains(@class,\"wt-input wt-input-btn-group__input global-enhancements-search-input-btn-group__input wt-pr-xs-7\")]')\n",
    "search_input.send_keys('dog tshirt')\n",
    "find_button = driver.find_element_by_xpath('//button[contains(@class,\"wt-input-btn-group__btn\")]')\n",
    "find_button.click()\n",
    "time.sleep(2)"
   ]
  },
  {
   "cell_type": "code",
   "execution_count": 6,
   "metadata": {},
   "outputs": [],
   "source": [
    "driver = scroll_down(driver)\n",
    "driver = scroll_up_and_wait(driver)"
   ]
  },
  {
   "cell_type": "code",
   "execution_count": 7,
   "metadata": {},
   "outputs": [],
   "source": [
    "urls = []\n",
    "all_items = driver.find_elements_by_xpath('//div[contains(@class,\"v2-listing-card position-relative\")]')\n",
    "for item in all_items:\n",
    "    for url in item.find_elements_by_xpath('//div[contains(@class,\"v2-listing-card position-relative\")]/a[@href]'):\n",
    "        if len(urls) < 10:\n",
    "            urls.append(url.get_attribute('href'))\n",
    "        else: break"
   ]
  },
  {
   "cell_type": "code",
   "execution_count": 8,
   "metadata": {},
   "outputs": [
    {
     "name": "stdout",
     "output_type": "stream",
     "text": [
      "https://www.etsy.com/listing/769379665/dog-rescue-shirt-animal-rescue-shirt?ga_order=most_relevant&ga_search_type=all&ga_view_type=gallery&ga_search_query=dog+tshirt&ref=sc_gallery-1-1&plkey=2925a9f2f6a0a58fdd61a9ea25637828606b4e05%3A769379665&pro=1&col=1\n",
      "https://www.etsy.com/listing/587070148/dog-dad-t-shirt-gift-dog-shirt-for-men?ga_order=most_relevant&ga_search_type=all&ga_view_type=gallery&ga_search_query=dog+tshirt&ref=sc_gallery-1-2&plkey=1723d1b2f0626ba31f686dd561cd0a91884bf3ab%3A587070148&bes=1&col=1\n",
      "https://www.etsy.com/listing/822512888/t-shirt-for-women-love-paw-shirt-womens?ga_order=most_relevant&ga_search_type=all&ga_view_type=gallery&ga_search_query=dog+tshirt&ref=sc_gallery-1-3&plkey=c793937e92e960ebfb5f67266a7527ec30a921e4%3A822512888&bes=1\n",
      "https://www.etsy.com/listing/587070148/dog-dad-t-shirt-gift-dog-shirt-for-men?ga_order=most_relevant&ga_search_type=all&ga_view_type=gallery&ga_search_query=dog+tshirt&ref=sr_gallery-1-1&organic_search_click=1&bes=1&col=1\n",
      "https://www.etsy.com/listing/822512888/t-shirt-for-women-love-paw-shirt-womens?ga_order=most_relevant&ga_search_type=all&ga_view_type=gallery&ga_search_query=dog+tshirt&ref=sr_gallery-1-2&organic_search_click=1&bes=1\n",
      "https://www.etsy.com/listing/769379665/dog-rescue-shirt-animal-rescue-shirt?ga_order=most_relevant&ga_search_type=all&ga_view_type=gallery&ga_search_query=dog+tshirt&ref=sr_gallery-1-5&organic_search_click=1&pro=1&col=1\n",
      "https://www.etsy.com/listing/809276699/not-today-corgis-t-shirt-gift-for-pet?ga_order=most_relevant&ga_search_type=all&ga_view_type=gallery&ga_search_query=dog+tshirt&ref=sr_gallery-1-7&organic_search_click=1&pro=1&col=1\n"
     ]
    }
   ],
   "source": [
    "index = 0\n",
    "for url in urls:\n",
    "    driver.get(url)\n",
    "    best_seller = driver.find_element_by_xpath('//div[contains(@class,\"wt-align-items-center\")]/span[contains(@class,\"wt-display-inline-block\")]').text\n",
    "    if best_seller == 'Bestseller':\n",
    "        print(url)\n",
    "        link_imgs = driver.find_elements_by_xpath('//ul[contains(@class,\"wt-list-unstyled\")]/li[contains(@class,\"wt-position-absolute\")]/img[@src]')\n",
    "        for img in link_imgs:\n",
    "            img_src = img.get_attribute('src')\n",
    "            filename = re.search(r'/([\\w]+[.]+[\\w_-]+[.](jpg|gif|png))$', img_src)\n",
    "            if filename:\n",
    "                if not os.path.exists(os.path.dirname('hinh_esty/' + str(index) + filename.group(0))):\n",
    "                        os.makedirs(os.path.dirname('hinh_esty/' + str(index) + filename.group(0)))\n",
    "                with open('hinh_esty/' + str(index) + filename.group(0),'wb') as f:\n",
    "                    response = requests.get(img_src)\n",
    "                    f.write(response.content)\n",
    "    index += 1\n",
    "    time.sleep(2)"
   ]
  },
  {
   "cell_type": "code",
   "execution_count": null,
   "metadata": {},
   "outputs": [],
   "source": []
  }
 ],
 "metadata": {
  "kernelspec": {
   "display_name": "Python 3",
   "language": "python",
   "name": "python3"
  },
  "language_info": {
   "codemirror_mode": {
    "name": "ipython",
    "version": 3
   },
   "file_extension": ".py",
   "mimetype": "text/x-python",
   "name": "python",
   "nbconvert_exporter": "python",
   "pygments_lexer": "ipython3",
   "version": "3.9.0"
  }
 },
 "nbformat": 4,
 "nbformat_minor": 2
}
