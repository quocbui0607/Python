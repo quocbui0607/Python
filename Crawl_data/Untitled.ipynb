{
 "cells": [
  {
   "cell_type": "code",
   "execution_count": 1,
   "metadata": {},
   "outputs": [],
   "source": [
    "import re\n",
    "import pandas as pd\n",
    "import subprocess"
   ]
  },
  {
   "cell_type": "code",
   "execution_count": 5,
   "metadata": {},
   "outputs": [
    {
     "data": {
      "text/plain": [
       "'curl -F \"SoBaoDanh=02000001\" diemthi.hcm.edu.vn/Home/Show'"
      ]
     },
     "execution_count": 5,
     "metadata": {},
     "output_type": "execute_result"
    }
   ],
   "source": [
    "list_sbd = []\n",
    "for x in range(1,10):\n",
    "    sbd = '0200000' + str(x)\n",
    "    string = 'curl -F \"SoBaoDanh={}\" diemthi.hcm.edu.vn/Home/Show'.format(sbd)\n",
    "    list_sbd.append(string)\n",
    "    \n",
    "for x in range(10,100):\n",
    "    sbd = '020000' + str(x)\n",
    "    string = 'curl -F \"SoBaoDanh={}\" diemthi.hcm.edu.vn/Home/Show'.format(sbd)\n",
    "    list_sbd.append(string)\n",
    "    \n",
    "for x in range(100,1000):\n",
    "    sbd = '02000' + str(x)\n",
    "    string = 'curl -F \"SoBaoDanh={}\" diemthi.hcm.edu.vn/Home/Show'.format(sbd)\n",
    "    list_sbd.append(string)\n",
    "    \n",
    "for x in range(1000,10000):\n",
    "    sbd = '0200' + str(x)\n",
    "    string = 'curl -F \"SoBaoDanh={}\" diemthi.hcm.edu.vn/Home/Show'.format(sbd)\n",
    "    list_sbd.append(string)\n",
    "    \n",
    "for x in range(10000, 74719):\n",
    "    sbd = '020' + str(x)\n",
    "    string = 'curl -F \"SoBaoDanh={}\" diemthi.hcm.edu.vn/Home/Show'.format(sbd)\n",
    "    list_sbd.append(string)\n",
    "\n",
    "list_sbd[0]"
   ]
  },
  {
   "cell_type": "code",
   "execution_count": null,
   "metadata": {},
   "outputs": [],
   "source": [
    "frame = []\n",
    "i=1\n",
    "for call_candidate in list_sbd:\n",
    "    data = subprocess.check_output(call_candidate)\n",
    "    frame.append([i,data])\n",
    "    i+=1"
   ]
  },
  {
   "cell_type": "code",
   "execution_count": null,
   "metadata": {},
   "outputs": [],
   "source": []
  }
 ],
 "metadata": {
  "kernelspec": {
   "display_name": "Python 3",
   "language": "python",
   "name": "python3"
  },
  "language_info": {
   "codemirror_mode": {
    "name": "ipython",
    "version": 3
   },
   "file_extension": ".py",
   "mimetype": "text/x-python",
   "name": "python",
   "nbconvert_exporter": "python",
   "pygments_lexer": "ipython3",
   "version": "3.8.6"
  }
 },
 "nbformat": 4,
 "nbformat_minor": 4
}
