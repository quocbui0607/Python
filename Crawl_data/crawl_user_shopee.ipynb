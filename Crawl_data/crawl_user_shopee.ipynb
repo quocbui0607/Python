{
 "cells": [
  {
   "cell_type": "markdown",
   "metadata": {},
   "source": [
    "### Import library"
   ]
  },
  {
   "cell_type": "code",
   "execution_count": 1,
   "metadata": {},
   "outputs": [],
   "source": [
    "import time\n",
    "from selenium import webdriver\n",
    "from selenium.webdriver.common.by import By\n",
    "from selenium.webdriver.support.ui import WebDriverWait\n",
    "from selenium.webdriver.support import expected_conditions as EC\n",
    "from selenium.common.exceptions import TimeoutException, NoSuchElementException\n",
    "from selenium.webdriver.common.action_chains import ActionChains\n",
    "from selenium.webdriver.common.keys import Keys\n",
    "import pandas as pd\n",
    "import os.path\n",
    "import re"
   ]
  },
  {
   "cell_type": "markdown",
   "metadata": {},
   "source": [
    "### Define some function"
   ]
  },
  {
   "cell_type": "code",
   "execution_count": 2,
   "metadata": {},
   "outputs": [],
   "source": [
    "def scroll_down(driver):\n",
    "    SCROLL_PAUSE_TIME = 1\n",
    "    while True:\n",
    "        last_height = driver.execute_script(\"return document.body.scrollHeight\")\n",
    "        # Scroll down to bottom\n",
    "        driver.execute_script(\"window.scrollTo(0, document.body.scrollHeight);\")\n",
    "        # Wait to load page\n",
    "        time.sleep(SCROLL_PAUSE_TIME)\n",
    "        # Calculate new scroll height and compare with last scroll height\n",
    "        new_height = driver.execute_script(\"return document.body.scrollHeight\")\n",
    "        if new_height == last_height:\n",
    "            # try again (can be removed)\n",
    "            driver.execute_script(\"window.scrollTo(0, document.body.scrollHeight);\")\n",
    "            # Wait to load page\n",
    "            time.sleep(SCROLL_PAUSE_TIME)\n",
    "            # Calculate new scroll height and compare with last scroll height\n",
    "            new_height = driver.execute_script(\"return document.body.scrollHeight\")\n",
    "            # check if the page height has remained the same\n",
    "            if new_height == last_height:\n",
    "                # if so, you are done\n",
    "                break\n",
    "            # if not, move on to the next loop\n",
    "            else:\n",
    "                last_height = new_height\n",
    "                continue\n",
    "    return driver\n",
    "\n",
    "\n",
    "def parse_info_product(driver, item, label):\n",
    "    driver.get(item)\n",
    "    time.sleep(5)\n",
    "### This part for get item name\n",
    "    info_dict = {}\n",
    "    product_span = driver.find_elements_by_class_name(\"qaNIZv\")\n",
    "    if len(product_span)>0:\n",
    "        info_dict.update({'Tên sp:': product_span[0].text.split('\\n')[-1],'label:': label})\n",
    "        ### This part for get item description\n",
    "        for attr in driver.find_elements_by_class_name(\"kIo6pj\"):\n",
    "            info_dict.update({attr.text.split('\\n')[0]:'-'.join(attr.text.split('\\n')[1:])})\n",
    "        ### This part for get price - discount - price discount\n",
    "        if len(driver.find_elements_by_class_name(\"_3_ISdg\"))==0:\n",
    "            info_dict.update({'sale_price':driver.find_elements_by_class_name(\"_3n5NQx\")[0].text})\n",
    "            info_dict.update({'org_price':driver.find_elements_by_class_name(\"_3n5NQx\")[0].text})\n",
    "            info_dict.update({'discount':0})\n",
    "        else:\n",
    "            info_dict.update({'org_price':driver.find_elements_by_class_name(\"_3_ISdg\")[0].text})\n",
    "            info_dict.update({'sale_price':driver.find_elements_by_class_name(\"_3n5NQx\")[0].text})\n",
    "            info_dict.update({'discount':driver.find_elements_by_class_name(\"MITExd\")[0].text})\n",
    "        ### This part for get rating-star-selled\n",
    "        if len(driver.find_elements_by_class_name(\"_3Oj5_n\"))==0:\n",
    "            info_dict.update({'star':0})\n",
    "            info_dict.update({'rating':0})\n",
    "        else:\n",
    "            for rat in driver.find_elements_by_class_name(\"_3Oj5_n\"):\n",
    "                info_dict.update({'star':driver.find_elements_by_class_name(\"_3Oj5_n\")[0].text})\n",
    "                info_dict.update({'rating':driver.find_elements_by_class_name(\"_3Oj5_n\")[1].text})\n",
    "        try:\n",
    "            my_property = driver.find_element_by_class_name('_3ZDC1p').find_element_by_xpath(\"//div[@class='_2JMB9h _3XaILN']\").value_of_css_property(\"background-image\")\n",
    "            info_dict.update({'img_url': re.split('[()]',my_property)[1]})\n",
    "        except NoSuchElementException:\n",
    "            info_dict.update({'img_url': ''})\n",
    "        info_dict.update({'selled':driver.find_elements_by_class_name(\"_22sp0A\")[0].text})\n",
    "        ### This part for get info about store\n",
    "        info_dict.update({driver.find_elements_by_class_name(\"TuJk3S\")[0].text.split('\\n')[0]:driver.find_elements_by_class_name(\"TuJk3S\")[0].text.split('\\n')[1]})\n",
    "        info_dict.update({driver.find_elements_by_class_name(\"TuJk3S\")[0].text.split('\\n')[2]:driver.find_elements_by_class_name(\"TuJk3S\")[0].text.split('\\n')[3]})\n",
    "        info_dict.update({driver.find_elements_by_class_name(\"TuJk3S\")[1].text.split('\\n')[0]:driver.find_elements_by_class_name(\"TuJk3S\")[1].text.split('\\n')[1]})\n",
    "        info_dict.update({driver.find_elements_by_class_name(\"TuJk3S\")[1].text.split('\\n')[2]:driver.find_elements_by_class_name(\"TuJk3S\")[1].text.split('\\n')[3]})\n",
    "        info_dict.update({driver.find_elements_by_class_name(\"TuJk3S\")[2].text.split('\\n')[0]:driver.find_elements_by_class_name(\"TuJk3S\")[2].text.split('\\n')[1]})\n",
    "        info_dict.update({driver.find_elements_by_class_name(\"TuJk3S\")[2].text.split('\\n')[2]:driver.find_elements_by_class_name(\"TuJk3S\")[2].text.split('\\n')[3]})\n",
    "    else:\n",
    "        pass\n",
    "    return driver, info_dict\n",
    "\n",
    "\n",
    "def get_link_product(driver):\n",
    "    all_items = driver.find_elements_by_xpath('//a[@data-sqe=\"link\"]')\n",
    "    all_urls = []\n",
    "    for item in all_items:\n",
    "        url = item.get_attribute('href')\n",
    "        all_urls.append(url)\n",
    "    return driver, all_urls"
   ]
  },
  {
   "cell_type": "markdown",
   "metadata": {},
   "source": [
    "### Please change param at cell below"
   ]
  },
  {
   "cell_type": "code",
   "execution_count": 3,
   "metadata": {},
   "outputs": [],
   "source": [
    "index = 0\n",
    "filename = 'thoi_trang_nam_ratings'\n",
    "limit_prod = 251"
   ]
  },
  {
   "cell_type": "markdown",
   "metadata": {},
   "source": [
    "### This part for execute to crawl data, please run each cell and wait 3s before continue"
   ]
  },
  {
   "cell_type": "code",
   "execution_count": 4,
   "metadata": {},
   "outputs": [],
   "source": [
    "driver = webdriver.Chrome(executable_path='D:/IT/Python/Crawl_data/chromedriver.exe')\n",
    "driver.get(\"https://shopee.vn/\")\n",
    "time.sleep(3)"
   ]
  },
  {
   "cell_type": "code",
   "execution_count": 5,
   "metadata": {},
   "outputs": [],
   "source": [
    "popup_close_button = WebDriverWait(driver, 10).until(EC.presence_of_element_located((By.XPATH, \"//div[contains(@class, 'shopee-popup__close-btn')]\")))\n",
    "if popup_close_button:\n",
    "    popup_close_button.click()"
   ]
  },
  {
   "cell_type": "code",
   "execution_count": 6,
   "metadata": {},
   "outputs": [],
   "source": [
    "driver.maximize_window()"
   ]
  },
  {
   "cell_type": "code",
   "execution_count": 7,
   "metadata": {},
   "outputs": [],
   "source": [
    "url_item = []\n",
    "category = driver.find_elements_by_class_name('home-category-list__group')\n",
    "for sub_item in category:\n",
    "    for ssitem in sub_item.find_elements_by_class_name('home-category-list__category-grid'):\n",
    "        url_item.append(ssitem.get_attribute('href'))\n",
    "url_item = url_item[:-1]"
   ]
  },
  {
   "cell_type": "code",
   "execution_count": 8,
   "metadata": {},
   "outputs": [
    {
     "data": {
      "text/plain": [
       "['https://shopee.vn/Th%E1%BB%9Di-Trang-Nam-cat.78',\n",
       " 'https://shopee.vn/Th%E1%BB%9Di-Trang-N%E1%BB%AF-cat.77',\n",
       " 'https://shopee.vn/%C4%90i%E1%BB%87n-Tho%E1%BA%A1i-Ph%E1%BB%A5-Ki%E1%BB%87n-cat.84',\n",
       " 'https://shopee.vn/M%E1%BA%B9-B%C3%A9-cat.163',\n",
       " 'https://shopee.vn/Thi%E1%BA%BFt-B%E1%BB%8B-%C4%90i%E1%BB%87n-T%E1%BB%AD-cat.2365',\n",
       " 'https://shopee.vn/Nh%C3%A0-C%E1%BB%ADa-%C4%90%E1%BB%9Di-S%E1%BB%91ng-cat.87',\n",
       " 'https://shopee.vn/M%C3%A1y-t%C3%ADnh-Laptop-cat.13030',\n",
       " 'https://shopee.vn/S%E1%BB%A9c-Kh%E1%BB%8Fe-S%E1%BA%AFc-%C4%90%E1%BA%B9p-cat.160',\n",
       " 'https://shopee.vn/M%C3%A1y-%E1%BA%A3nh-M%C3%A1y-quay-phim-cat.13033',\n",
       " 'https://shopee.vn/Gi%C3%A0y-D%C3%A9p-N%E1%BB%AF-cat.161',\n",
       " 'https://shopee.vn/%C4%90%E1%BB%93ng-H%E1%BB%93-cat.9607',\n",
       " 'https://shopee.vn/T%C3%BAi-V%C3%AD-cat.162',\n",
       " 'https://shopee.vn/Gi%C3%A0y-D%C3%A9p-Nam-cat.2429',\n",
       " 'https://shopee.vn/Ph%E1%BB%A5-Ki%E1%BB%87n-Th%E1%BB%9Di-Trang-cat.80',\n",
       " 'https://shopee.vn/Thi%E1%BA%BFt-B%E1%BB%8B-%C4%90i%E1%BB%87n-Gia-D%E1%BB%A5ng-cat.2353',\n",
       " 'https://shopee.vn/B%C3%A1ch-Ho%C3%A1-Online-cat.9824',\n",
       " 'https://shopee.vn/Th%E1%BB%83-Thao-Du-L%E1%BB%8Bch-cat.9675',\n",
       " 'https://shopee.vn/Voucher-D%E1%BB%8Bch-v%E1%BB%A5-cat.12938',\n",
       " 'https://shopee.vn/%C3%94-t%C3%B4-xe-m%C3%A1y-xe-%C4%91%E1%BA%A1p-cat.12494',\n",
       " 'https://shopee.vn/Nh%C3%A0-S%C3%A1ch-Online-cat.10256',\n",
       " 'https://shopee.vn/%C4%90%E1%BB%93-Ch%C6%A1i-cat.13242',\n",
       " 'https://shopee.vn/Gi%E1%BA%B7t-gi%C5%A9-Ch%C4%83m-s%C3%B3c-nh%C3%A0-c%E1%BB%ADa-cat.17101',\n",
       " 'https://shopee.vn/Ch%C4%83m-s%C3%B3c-th%C3%BA-c%C6%B0ng-cat.18977',\n",
       " 'https://shopee.vn/Th%E1%BB%9Di-Trang-Tr%E1%BA%BB-Em-cat.16770',\n",
       " 'https://shopee.vn/S%E1%BA%A3n-Ph%E1%BA%A9m-Kh%C3%A1c-cat.91']"
      ]
     },
     "execution_count": 8,
     "metadata": {},
     "output_type": "execute_result"
    }
   ],
   "source": [
    "url_item"
   ]
  },
  {
   "cell_type": "code",
   "execution_count": 9,
   "metadata": {},
   "outputs": [],
   "source": [
    "def parse_user_info(list_author, list_rating, list_comment, driver):\n",
    "    list_user_info = []\n",
    "    product_span = driver.find_elements_by_class_name(\"qaNIZv\")\n",
    "    if len(product_span)>0:\n",
    "        product = product_span[0].text.split('\\n')[-1]\n",
    "    for idx, author in enumerate(list_author):\n",
    "        user_name = author.text\n",
    "        stars = list_rating[idx].get_attribute('innerHTML').split().count('enable-background=\"new')\n",
    "        comment = list_comment[idx].text\n",
    "        list_user_info.append({'username':user_name, 'rating':stars, 'comment': comment,'sp':product})\n",
    "    else:\n",
    "        pass\n",
    "    return driver, list_user_info"
   ]
  },
  {
   "cell_type": "code",
   "execution_count": 10,
   "metadata": {},
   "outputs": [],
   "source": [
    "def scroll_down_and_wait(driver):\n",
    "    actions = ActionChains(driver)\n",
    "    for _ in range(4):\n",
    "        actions.send_keys(Keys.SPACE).perform()\n",
    "        time.sleep(3)\n",
    "    return driver\n",
    "\n",
    "def scroll_up_and_wait(driver):\n",
    "    actions = ActionChains(driver)\n",
    "    for _ in range(2):\n",
    "        actions.send_keys(Keys.PAGE_UP).perform()\n",
    "        time.sleep(3)\n",
    "    return driver"
   ]
  },
  {
   "cell_type": "code",
   "execution_count": 11,
   "metadata": {
    "scrolled": true
   },
   "outputs": [
    {
     "data": {
      "text/plain": [
       "['https://shopee.vn/%C3%81o-S%C6%A1-mi-nam-ch%E1%BA%A5t-l%E1%BB%A5a-d%C3%A0i-tay-l%C3%B4ng-c%C3%B4ng-ng%E1%BB%B1c-c%E1%BB%95-cao-c%E1%BA%A5p-i.304898825.6950852647',\n",
       " 'https://shopee.vn/%C3%81o-thun-nam-th%E1%BB%83-thao-cotton-l%E1%BA%A1nh-cao-c%E1%BA%A5p-tay-l%E1%BB%A1-from-r%E1%BB%99ng-Xanh-AD03-Phong-C%E1%BA%A3nh-(44-70KG)-i.304898825.4150860324',\n",
       " 'https://shopee.vn/%C3%81o-Thun-Nam-Th%E1%BB%83-Thao-C%E1%BB%95-Tr%C3%B2n-H%E1%BB%8Da-Ti%E1%BA%BFt-Alaska-Nhi%E1%BB%81u-M%C3%A0u-Cao-C%E1%BA%A5p-Phong-C%C3%A1ch-Tr%E1%BA%BB-Trung-i.304898825.6050853730',\n",
       " 'https://shopee.vn/Qu%E1%BA%A7n-L%C3%B3t-Nam-Gi%C3%A1-R%E1%BA%BB-%E2%9D%A4%EF%B8%8F-Free-Ship-%E2%9D%A4%EF%B8%8F-Ch%E1%BA%A5t-M%E1%BB%81m-M%E1%BA%A1i-D%C3%A0y-D%E1%BA%B7n-Si%C3%AAu-%C6%AFng-i.272970397.6150441558',\n",
       " 'https://shopee.vn/%C3%81o-Thun-Nam-Tay-Ng%E1%BA%AFn-LOGO1970-Nhi%E1%BB%81u-M%C3%A0u-Cao-C%E1%BA%A5p-Phong-C%C3%A1ch-Tr%E1%BA%BB-Trung-i.188903465.6042261281',\n",
       " 'https://shopee.vn/%C3%81o-Thun-Nam-Th%E1%BB%83-Thao-Thun-L%E1%BA%A1nh-Ba-L%E1%BB%97-LOGO-NOT-HOME-BL5-BL6-(44-72KG)-i.304898825.4050855880',\n",
       " 'https://shopee.vn/%C3%81o-Thun-Nam-Tay-Ng%E1%BA%AFn-LOGO-M%E1%BA%B7t-B%C3%A1o-Nhi%E1%BB%81u-M%C3%A0u-Cao-C%E1%BA%A5p-Phong-C%C3%A1ch-Tr%E1%BA%BB-Trung-i.304898825.6450854024',\n",
       " 'https://shopee.vn/%C3%81o-Thun-Nam-Tay-Ng%E1%BA%AFn-3X-Nhi%E1%BB%81u-M%C3%A0u-Cao-C%E1%BA%A5p-Phong-C%C3%A1ch-Tr%E1%BA%BB-Trung-i.188903465.5542256090',\n",
       " 'https://shopee.vn/%C3%81o-S%C6%A1-mi-nam-ch%E1%BA%A5t-l%E1%BB%A5a-d%C3%A0i-tay-h%E1%BB%8Da-ti%E1%BA%BFt-tr%E1%BA%AFng-hoa-v%C4%83n-th%E1%BB%95-c%E1%BA%A9m-cao-c%E1%BA%A5p-i.304898825.7450853999',\n",
       " 'https://shopee.vn/%C3%81o-Thun-Nam-Th%E1%BB%83-Thao-Thun-L%E1%BA%A1nh-Ba-L%E1%BB%97-BL13-Nhi%E1%BB%81u-M%C3%A0u-(44-72KG)-i.304898825.4050860020',\n",
       " 'https://shopee.vn/%C3%81o-Thun-Nam-Tay-Ng%E1%BA%AFn-LOGO-Ngo%E1%BA%A1i-H%E1%BA%A1ng-Nhi%E1%BB%81u-M%C3%A0u-Cao-C%E1%BA%A5p-Phong-C%C3%A1ch-Tr%E1%BA%BB-Trung-i.304898825.4650854790',\n",
       " 'https://shopee.vn/%C3%81o-Thun-Nam-Ng%E1%BA%AFn-Tay-C%E1%BB%95-B%E1%BA%BB-Chando-V%E1%BA%A3i-Thun-C%C3%A1-S%E1%BA%A5u-Cotton-Cao-C%E1%BA%A5p-Tho%C3%A1ng-M%C3%A1t-D%C3%A1ng-Form-V%E1%BB%ABa-CD01-i.259979999.5642569994',\n",
       " 'https://shopee.vn/%C3%81os%C6%A1-mi-nam-FREESHIP-S%C6%A1-mi-nam-ch%E1%BA%A5t-l%E1%BB%A5a-d%C3%A0i-tay-tr%E1%BA%AFng-tr%C6%A1n-c%E1%BB%95-b%E1%BA%BB-cao-c%E1%BA%A5p-i.188903465.6142300010',\n",
       " 'https://shopee.vn/%C4%90%E1%BB%93-Lam-%C4%90i-Ch%C3%B9a-La-H%C3%A1n-Nam-Ch%E1%BA%A5t-V%E1%BA%A3i-Lo%E1%BA%A1i-1-M%E1%BB%8Bn-%C4%90%E1%BA%B9p-M%E1%BA%B7c-C%E1%BB%B1c-Tho%E1%BA%A3i-M%C3%A1i-B%E1%BB%99-qu%E1%BA%A7n-%C3%A1o-%C4%91i-ch%C3%B9a-nam-Tho%C3%A1ng-M%C3%A1t-Th%E1%BA%A5m-H%C3%BAt-M%E1%BB%93-H%C3%B4i--i.10234643.7229129721',\n",
       " 'https://shopee.vn/Th%E1%BA%AFt-n%E1%BB%8Bt-l%C6%B0ng-nam-da-b%C3%B2-da-miu-%C4%91en-m%E1%BA%B7t-kim-Chando-b%E1%BA%A3o-h%C3%A0nh-18-th%C3%A1ng-i.259979999.3533423983']"
      ]
     },
     "execution_count": 11,
     "metadata": {},
     "output_type": "execute_result"
    }
   ],
   "source": [
    "driver.get(url_item[0])\n",
    "driver = scroll_down(driver)\n",
    "all_items = driver.find_elements_by_xpath('//a[@data-sqe=\"link\"]')\n",
    "all_urls = []\n",
    "for item in all_items:\n",
    "    url = item.get_attribute('href')\n",
    "    all_urls.append(url)\n",
    "all_urls"
   ]
  },
  {
   "cell_type": "code",
   "execution_count": 13,
   "metadata": {},
   "outputs": [
    {
     "name": "stdout",
     "output_type": "stream",
     "text": [
      "Shopee returned data: 15\n"
     ]
    }
   ],
   "source": [
    "print('Shopee returned data:', len(all_urls))"
   ]
  },
  {
   "cell_type": "code",
   "execution_count": null,
   "metadata": {},
   "outputs": [],
   "source": []
  },
  {
   "cell_type": "code",
   "execution_count": null,
   "metadata": {},
   "outputs": [],
   "source": [
    "# for category in url_item:\n",
    "user_info_all = pd.DataFrame([], columns=['username', 'rating', 'comment', 'sp'])\n",
    "driver.get(url_item[index])\n",
    "driver = scroll_down(driver)\n",
    "driver, all_urls = get_link_product(driver)\n",
    "print('Shopee returned data:', len(all_urls))\n",
    "for product_url in all_urls:\n",
    "    df_user_info_old = pd.DataFrame([], columns=['username', 'rating', 'sp'])\n",
    "    df_user_info = pd.DataFrame()\n",
    "    driver.get(product_url)\n",
    "    time.sleep(5)\n",
    "    driver = scroll_down_and_wait(driver)\n",
    "    try:\n",
    "        while True:\n",
    "            list_author = driver.find_elements_by_class_name('shopee-product-rating__author-name')\n",
    "            list_rating = driver.find_elements_by_class_name('shopee-product-rating__rating')\n",
    "            list_comment = driver.find_elements_by_class_name('shopee-product-rating__content')\n",
    "            driver, list_user_info = parse_user_info(list_author, list_rating, list_comment, driver)\n",
    "            if len(list_user_info)==0: \n",
    "                break\n",
    "            else:\n",
    "                if df_user_info_old.equals(df_user_info):\n",
    "                    break\n",
    "                else:\n",
    "                    df_user_info_old = df_user_info.copy()\n",
    "                    df_user_info = pd.DataFrame(list_user_info)\n",
    "                    user_info_all = user_info_all.append(df_user_info)\n",
    "                    user_info_all = user_info_all.drop_duplicates().reset_index(drop=True)\n",
    "                    print('User crawled:', user_info_all.shape[0])\n",
    "                    driver.find_element_by_xpath(\"//button[@class='shopee-icon-button shopee-icon-button--right ']\").click()\n",
    "                    time.sleep(3)\n",
    "    except NoSuchElementException:\n",
    "        continue\n",
    "    if user_info_all.shape[0]>501:\n",
    "        break"
   ]
  },
  {
   "cell_type": "code",
   "execution_count": null,
   "metadata": {},
   "outputs": [],
   "source": [
    "print(user_info_all.shape)\n",
    "user_info_all.to_csv('{}.csv'.format(filename), index=False)"
   ]
  },
  {
   "cell_type": "code",
   "execution_count": null,
   "metadata": {},
   "outputs": [],
   "source": [
    "all_urls"
   ]
  },
  {
   "cell_type": "code",
   "execution_count": null,
   "metadata": {},
   "outputs": [],
   "source": []
  },
  {
   "cell_type": "code",
   "execution_count": null,
   "metadata": {},
   "outputs": [],
   "source": []
  },
  {
   "cell_type": "code",
   "execution_count": null,
   "metadata": {},
   "outputs": [],
   "source": []
  }
 ],
 "metadata": {
  "kernelspec": {
   "display_name": "Python 3",
   "language": "python",
   "name": "python3"
  },
  "language_info": {
   "codemirror_mode": {
    "name": "ipython",
    "version": 3
   },
   "file_extension": ".py",
   "mimetype": "text/x-python",
   "name": "python",
   "nbconvert_exporter": "python",
   "pygments_lexer": "ipython3",
   "version": "3.7.4"
  }
 },
 "nbformat": 4,
 "nbformat_minor": 4
}
